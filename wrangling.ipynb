{
 "cells": [
  {
   "cell_type": "markdown",
   "metadata": {},
   "source": []
  },
  {
   "cell_type": "markdown",
   "metadata": {},
   "source": [
    "# Introducción\n",
    "\n",
    "Este script hace la ejecución de Extracción, Procesamiento y Carga (ETL) de los archivos del sitio [Quién es Quién en los precios](https://datos.profeco.gob.mx/datos_abiertos/qqp.php).\n",
    "\n",
    "Una vez procesados estarán disponibles para la parte A y B del trabajo."
   ]
  },
  {
   "cell_type": "code",
   "execution_count": 19,
   "metadata": {},
   "outputs": [
    {
     "name": "stdout",
     "output_type": "stream",
     "text": [
      "Requirement already satisfied: awswrangler in c:\\users\\javier_castillo.ltsfe-jcm\\.conda\\envs\\arquitectura\\lib\\site-packages (3.7.1)\n",
      "Requirement already satisfied: boto3<2.0.0,>=1.20.32 in c:\\users\\javier_castillo.ltsfe-jcm\\.conda\\envs\\arquitectura\\lib\\site-packages (from awswrangler) (1.34.69)\n",
      "Requirement already satisfied: botocore<2.0.0,>=1.23.32 in c:\\users\\javier_castillo.ltsfe-jcm\\.conda\\envs\\arquitectura\\lib\\site-packages (from awswrangler) (1.34.69)\n",
      "Requirement already satisfied: numpy<2.0,>=1.18 in c:\\users\\javier_castillo.ltsfe-jcm\\.conda\\envs\\arquitectura\\lib\\site-packages (from awswrangler) (1.26.4)\n",
      "Requirement already satisfied: packaging<24.0,>=21.1 in c:\\users\\javier_castillo.ltsfe-jcm\\.conda\\envs\\arquitectura\\lib\\site-packages (from awswrangler) (23.2)\n",
      "Requirement already satisfied: pandas<3.0.0,>=1.2.0 in c:\\users\\javier_castillo.ltsfe-jcm\\.conda\\envs\\arquitectura\\lib\\site-packages (from awswrangler) (2.2.1)\n",
      "Requirement already satisfied: pyarrow>=8.0.0 in c:\\users\\javier_castillo.ltsfe-jcm\\.conda\\envs\\arquitectura\\lib\\site-packages (from awswrangler) (15.0.2)\n",
      "Requirement already satisfied: typing-extensions<5.0.0,>=4.4.0 in c:\\users\\javier_castillo.ltsfe-jcm\\.conda\\envs\\arquitectura\\lib\\site-packages (from awswrangler) (4.10.0)\n",
      "Requirement already satisfied: jmespath<2.0.0,>=0.7.1 in c:\\users\\javier_castillo.ltsfe-jcm\\.conda\\envs\\arquitectura\\lib\\site-packages (from boto3<2.0.0,>=1.20.32->awswrangler) (1.0.1)\n",
      "Requirement already satisfied: s3transfer<0.11.0,>=0.10.0 in c:\\users\\javier_castillo.ltsfe-jcm\\.conda\\envs\\arquitectura\\lib\\site-packages (from boto3<2.0.0,>=1.20.32->awswrangler) (0.10.1)\n",
      "Requirement already satisfied: python-dateutil<3.0.0,>=2.1 in c:\\users\\javier_castillo.ltsfe-jcm\\.conda\\envs\\arquitectura\\lib\\site-packages (from botocore<2.0.0,>=1.23.32->awswrangler) (2.9.0)\n",
      "Requirement already satisfied: urllib3!=2.2.0,<3,>=1.25.4 in c:\\users\\javier_castillo.ltsfe-jcm\\.conda\\envs\\arquitectura\\lib\\site-packages (from botocore<2.0.0,>=1.23.32->awswrangler) (2.2.1)\n",
      "Requirement already satisfied: pytz>=2020.1 in c:\\users\\javier_castillo.ltsfe-jcm\\.conda\\envs\\arquitectura\\lib\\site-packages (from pandas<3.0.0,>=1.2.0->awswrangler) (2024.1)\n",
      "Requirement already satisfied: tzdata>=2022.7 in c:\\users\\javier_castillo.ltsfe-jcm\\.conda\\envs\\arquitectura\\lib\\site-packages (from pandas<3.0.0,>=1.2.0->awswrangler) (2024.1)\n",
      "Requirement already satisfied: six>=1.5 in c:\\users\\javier_castillo.ltsfe-jcm\\.conda\\envs\\arquitectura\\lib\\site-packages (from python-dateutil<3.0.0,>=2.1->botocore<2.0.0,>=1.23.32->awswrangler) (1.16.0)\n",
      "Requirement already satisfied: boto3 in c:\\users\\javier_castillo.ltsfe-jcm\\.conda\\envs\\arquitectura\\lib\\site-packages (1.34.69)\n",
      "Requirement already satisfied: botocore<1.35.0,>=1.34.69 in c:\\users\\javier_castillo.ltsfe-jcm\\.conda\\envs\\arquitectura\\lib\\site-packages (from boto3) (1.34.69)\n",
      "Requirement already satisfied: jmespath<2.0.0,>=0.7.1 in c:\\users\\javier_castillo.ltsfe-jcm\\.conda\\envs\\arquitectura\\lib\\site-packages (from boto3) (1.0.1)\n",
      "Requirement already satisfied: s3transfer<0.11.0,>=0.10.0 in c:\\users\\javier_castillo.ltsfe-jcm\\.conda\\envs\\arquitectura\\lib\\site-packages (from boto3) (0.10.1)\n",
      "Requirement already satisfied: python-dateutil<3.0.0,>=2.1 in c:\\users\\javier_castillo.ltsfe-jcm\\.conda\\envs\\arquitectura\\lib\\site-packages (from botocore<1.35.0,>=1.34.69->boto3) (2.9.0)\n",
      "Requirement already satisfied: urllib3!=2.2.0,<3,>=1.25.4 in c:\\users\\javier_castillo.ltsfe-jcm\\.conda\\envs\\arquitectura\\lib\\site-packages (from botocore<1.35.0,>=1.34.69->boto3) (2.2.1)\n",
      "Requirement already satisfied: six>=1.5 in c:\\users\\javier_castillo.ltsfe-jcm\\.conda\\envs\\arquitectura\\lib\\site-packages (from python-dateutil<3.0.0,>=2.1->botocore<1.35.0,>=1.34.69->boto3) (1.16.0)\n",
      "Collecting rarfile\n",
      "  Downloading rarfile-4.2-py3-none-any.whl.metadata (4.4 kB)\n",
      "Downloading rarfile-4.2-py3-none-any.whl (29 kB)\n",
      "Installing collected packages: rarfile\n",
      "Successfully installed rarfile-4.2\n",
      "Requirement already satisfied: selenium in c:\\users\\javier_castillo.ltsfe-jcm\\.conda\\envs\\arquitectura\\lib\\site-packages (4.19.0)\n",
      "Requirement already satisfied: urllib3<3,>=1.26 in c:\\users\\javier_castillo.ltsfe-jcm\\.conda\\envs\\arquitectura\\lib\\site-packages (from urllib3[socks]<3,>=1.26->selenium) (2.2.1)\n",
      "Requirement already satisfied: trio~=0.17 in c:\\users\\javier_castillo.ltsfe-jcm\\.conda\\envs\\arquitectura\\lib\\site-packages (from selenium) (0.25.0)\n",
      "Requirement already satisfied: trio-websocket~=0.9 in c:\\users\\javier_castillo.ltsfe-jcm\\.conda\\envs\\arquitectura\\lib\\site-packages (from selenium) (0.11.1)\n",
      "Requirement already satisfied: certifi>=2021.10.8 in c:\\users\\javier_castillo.ltsfe-jcm\\.conda\\envs\\arquitectura\\lib\\site-packages (from selenium) (2024.2.2)\n",
      "Requirement already satisfied: typing_extensions>=4.9.0 in c:\\users\\javier_castillo.ltsfe-jcm\\.conda\\envs\\arquitectura\\lib\\site-packages (from selenium) (4.10.0)\n",
      "Requirement already satisfied: attrs>=23.2.0 in c:\\users\\javier_castillo.ltsfe-jcm\\.conda\\envs\\arquitectura\\lib\\site-packages (from trio~=0.17->selenium) (23.2.0)\n",
      "Requirement already satisfied: sortedcontainers in c:\\users\\javier_castillo.ltsfe-jcm\\.conda\\envs\\arquitectura\\lib\\site-packages (from trio~=0.17->selenium) (2.4.0)\n",
      "Requirement already satisfied: idna in c:\\users\\javier_castillo.ltsfe-jcm\\.conda\\envs\\arquitectura\\lib\\site-packages (from trio~=0.17->selenium) (3.6)\n",
      "Requirement already satisfied: outcome in c:\\users\\javier_castillo.ltsfe-jcm\\.conda\\envs\\arquitectura\\lib\\site-packages (from trio~=0.17->selenium) (1.3.0.post0)\n",
      "Requirement already satisfied: sniffio>=1.3.0 in c:\\users\\javier_castillo.ltsfe-jcm\\.conda\\envs\\arquitectura\\lib\\site-packages (from trio~=0.17->selenium) (1.3.1)\n",
      "Requirement already satisfied: cffi>=1.14 in c:\\users\\javier_castillo.ltsfe-jcm\\.conda\\envs\\arquitectura\\lib\\site-packages (from trio~=0.17->selenium) (1.16.0)\n",
      "Requirement already satisfied: wsproto>=0.14 in c:\\users\\javier_castillo.ltsfe-jcm\\.conda\\envs\\arquitectura\\lib\\site-packages (from trio-websocket~=0.9->selenium) (1.2.0)\n",
      "Requirement already satisfied: pysocks!=1.5.7,<2.0,>=1.5.6 in c:\\users\\javier_castillo.ltsfe-jcm\\.conda\\envs\\arquitectura\\lib\\site-packages (from urllib3[socks]<3,>=1.26->selenium) (1.7.1)\n",
      "Requirement already satisfied: pycparser in c:\\users\\javier_castillo.ltsfe-jcm\\.conda\\envs\\arquitectura\\lib\\site-packages (from cffi>=1.14->trio~=0.17->selenium) (2.21)\n",
      "Requirement already satisfied: h11<1,>=0.9.0 in c:\\users\\javier_castillo.ltsfe-jcm\\.conda\\envs\\arquitectura\\lib\\site-packages (from wsproto>=0.14->trio-websocket~=0.9->selenium) (0.14.0)\n",
      "Requirement already satisfied: tqdm in c:\\users\\javier_castillo.ltsfe-jcm\\.conda\\envs\\arquitectura\\lib\\site-packages (4.66.2)\n",
      "Requirement already satisfied: colorama in c:\\users\\javier_castillo.ltsfe-jcm\\.conda\\envs\\arquitectura\\lib\\site-packages (from tqdm) (0.4.6)\n",
      "Requirement already satisfied: unidecode in c:\\users\\javier_castillo.ltsfe-jcm\\.conda\\envs\\arquitectura\\lib\\site-packages (1.3.8)\n"
     ]
    }
   ],
   "source": [
    "# Library installation of resources not in conda environment \"arquitectura\"\n",
    "!pip install awswrangler\n",
    "!pip install boto3\n",
    "!pip install rarfile\n",
    "!pip install selenium\n",
    "!pip install tqdm\n",
    "!pip install unidecode"
   ]
  },
  {
   "cell_type": "code",
   "execution_count": 17,
   "metadata": {},
   "outputs": [],
   "source": [
    "# Import libraries\n",
    "import awswrangler as wr\n",
    "import csv\n",
    "import matplotlib.pyplot as plt\n",
    "import os\n",
    "import pandas as pd\n",
    "import rarfile\n",
    "import re\n",
    "import requests\n",
    "import seaborn as sns\n",
    "import subprocess\n",
    "import time\n",
    "from bs4 import BeautifulSoup\n",
    "from tqdm import tqdm\n",
    "from unidecode import unidecode\n"
   ]
  },
  {
   "cell_type": "markdown",
   "metadata": {},
   "source": [
    "### Carga y Preparacion de datos"
   ]
  },
  {
   "cell_type": "markdown",
   "metadata": {},
   "source": [
    "Descargar los archivos desde el sitio [Quién es Quién en los precios](https://datos.profeco.gob.mx/datos_abiertos/qqp.php) y descomprimirlos en la carpeta `data/`."
   ]
  },
  {
   "cell_type": "code",
   "execution_count": 17,
   "metadata": {},
   "outputs": [
    {
     "name": "stdout",
     "output_type": "stream",
     "text": [
      "File saved: data\\Base de Datos Histórica Quién es Quién en los Precios 2024.rar\n",
      "File saved: data\\Base de Datos Histórica Quién es Quién en los Precios 2023.rar\n",
      "File saved: data\\Base de Datos Histórica Quién es Quién en los Precios 2022.rar\n",
      "File saved: data\\Base de Datos Histórica Quién es Quién en los Precios 2021.rar\n",
      "File saved: data\\Base de Datos Histórica Quién es Quién en los Precios 2020.rar\n",
      "File saved: data\\Base de Datos Histórica Quién es Quién en los Precios 2019.rar\n",
      "File saved: data\\Base de Datos Histórica Quién es Quién en los Precios 2018.rar\n",
      "File saved: data\\Base de Datos Histórica Quién es Quién en los Precios 2017.rar\n",
      "File saved: data\\Base de Datos Histórica Quién es Quién en los Precios 2016.rar\n",
      "File saved: data\\Base de Datos Histórica Quién es Quién en los Precios 2015.rar\n"
     ]
    }
   ],
   "source": [
    "# Function to ensure the data directory exists\n",
    "def ensure_dir(directory):\n",
    "    if not os.path.exists(directory):\n",
    "        os.makedirs(directory)\n",
    "\n",
    "# Base URL for making complete links\n",
    "base_url = \"https://datos.profeco.gob.mx/datos_abiertos/\"\n",
    "\n",
    "# URL of the page to scrape\n",
    "url = \"https://datos.profeco.gob.mx/datos_abiertos/qqp.php\"\n",
    "\n",
    "# Ensure the data directory exists\n",
    "ensure_dir('data')\n",
    "\n",
    "# Send HTTP GET request to the URL\n",
    "response = requests.get(url)\n",
    "\n",
    "# Check if the request was successful\n",
    "if response.status_code == 200:\n",
    "    # Parse the HTML content of the page\n",
    "    soup = BeautifulSoup(response.text, 'html.parser')\n",
    "\n",
    "    # Find all <li> tags that contain <a> tags within them\n",
    "    links = soup.find_all('li')\n",
    "    file_links = []\n",
    "    \n",
    "    for link in links:\n",
    "        a_tag = link.find('a', href=True)\n",
    "        if a_tag and 'file.php?t=' in a_tag['href']:\n",
    "            # Create the complete URL for the link\n",
    "            complete_url = base_url + a_tag['href']\n",
    "            file_links.append((complete_url, a_tag.text))\n",
    "\n",
    "    # Visit each link and download the file\n",
    "    for file_link, name in file_links:\n",
    "        try:\n",
    "            # Make the request\n",
    "            response = requests.get(file_link)\n",
    "            # Save the content to a file\n",
    "            if response.status_code == 200:\n",
    "                file_path = os.path.join('data', name.replace('/', '_') + '.rar')  # Replace slashes just in case\n",
    "                with open(file_path, 'wb') as file:\n",
    "                    file.write(response.content)\n",
    "                print(f\"File saved: {file_path}\")\n",
    "            else:\n",
    "                print(f\"Failed to download the file from {file_link}. Status code: {response.status_code}\")\n",
    "        except Exception as e:\n",
    "            print(f\"An error occurred while downloading {file_link}: {str(e)}\")\n",
    "else:\n",
    "    print(\"Failed to retrieve the webpage. Status code:\", response.status_code)"
   ]
  },
  {
   "cell_type": "markdown",
   "metadata": {},
   "source": [
    "Desempacar los archivos"
   ]
  },
  {
   "cell_type": "code",
   "execution_count": 1,
   "metadata": {},
   "outputs": [],
   "source": [
    "def unpack_rar_files(directory):\n",
    "    # Change this path to your 7-Zip executable if it's not in the PATH\n",
    "    seven_zip_path = \"7z\"\n",
    "    \n",
    "    # List all files in the given directory\n",
    "    files = os.listdir(directory)\n",
    "    \n",
    "    # Filter for .rar files\n",
    "    rar_files = [file for file in files if file.endswith('.rar')]\n",
    "    \n",
    "    # Extract each .rar file\n",
    "    for rar in rar_files:\n",
    "        # Construct the full file path\n",
    "        file_path = os.path.join(directory, rar)\n",
    "        # Command to extract the files\n",
    "        command = [seven_zip_path, 'x', file_path, '-o' + directory]\n",
    "        # Run the command\n",
    "        subprocess.run(command, check=True)\n",
    "\n",
    "# Replace 'data' with your directory path if different\n",
    "unpack_rar_files('data')\n"
   ]
  },
  {
   "cell_type": "markdown",
   "metadata": {},
   "source": [
    "Esquema de los archivos"
   ]
  },
  {
   "cell_type": "code",
   "execution_count": 2,
   "metadata": {},
   "outputs": [],
   "source": [
    "# Define the expected columns based on the provided schema\n",
    "expected_columns = [\n",
    "    'producto', 'presentacion', 'marca', 'categoria', 'catalogo', 'precio',\n",
    "    'fecha_registro', 'cadena_comercial', 'giro', 'nombre_comercial', 'direccion',\n",
    "    'estado', 'municipio', 'latitud', 'longitud'\n",
    "]"
   ]
  },
  {
   "cell_type": "markdown",
   "metadata": {},
   "source": [
    "Directorio que contiene los archivos"
   ]
  },
  {
   "cell_type": "code",
   "execution_count": 26,
   "metadata": {},
   "outputs": [],
   "source": [
    "# Directory containing the CSV files\n",
    "data_dir = 'data'  # Adjust this path as needed in your local setup"
   ]
  },
  {
   "cell_type": "markdown",
   "metadata": {},
   "source": [
    "Encontrar todos los archivos en el directorio \"data\""
   ]
  },
  {
   "cell_type": "code",
   "execution_count": 69,
   "metadata": {},
   "outputs": [],
   "source": [
    "# Function to find all CSV files in directory and subdirectories\n",
    "def find_csv_files(directory):\n",
    "    csv_files = []\n",
    "    for root, dirs, files in os.walk(directory):\n",
    "        for file in files:\n",
    "            if file.endswith('.csv'):\n",
    "                csv_files.append(os.path.join(root, file))\n",
    "    return csv_files\n",
    "\n",
    "# Get all CSV files\n",
    "csv_files = find_csv_files(data_dir)"
   ]
  },
  {
   "cell_type": "markdown",
   "metadata": {},
   "source": [
    "Leer todos los archivos para generar uno solo de la categoría indicada (en este caso, \"Material escolar\")"
   ]
  },
  {
   "cell_type": "code",
   "execution_count": 71,
   "metadata": {},
   "outputs": [],
   "source": [
    "# Initialize an empty DataFrame for valid data and one for errors\n",
    "all_data = pd.DataFrame(columns=['filename'] + expected_columns)\n",
    "errors = pd.DataFrame(columns=['filename', 'error_row'])\n",
    "\n",
    "# Function to clean and transform data\n",
    "def clean_data(data):\n",
    "    # Remove accents\n",
    "    for column in data.columns:\n",
    "        data[column] = data[column].apply(lambda x: unidecode(str(x)) if isinstance(x, str) and pd.notnull(x) else x)\n",
    "    # Convert to lowercase\n",
    "    data = data.apply(lambda x: x.str.lower() if x.dtype == \"object\" else x)\n",
    "    # Change commas to pipes in 'direccion', considering complex rules\n",
    "    data['direccion'] = data['direccion'].apply(lambda x: re.sub(r',(?![^\"]*\"(?:(?:[^\"]*\"){2})*[^\"]*$)', '|', x) if pd.notnull(x) else x)\n",
    "    return data\n",
    "\n",
    "# Read each file and validate rows\n",
    "for file_path in csv_files:\n",
    "    try:\n",
    "        # Read the file assuming no headers and using the expected columns\n",
    "        data = pd.read_csv(file_path, header=None, names=expected_columns)\n",
    "\n",
    "        # Filter data for 'categoria' equals 'material escolar'\n",
    "        filtered_data = data[data['categoria'] == 'material escolar']\n",
    "\n",
    "        # Clean and transform data\n",
    "        data = clean_data(data)\n",
    "\n",
    "        # Add filename column to the DataFrame\n",
    "        data['filename'] = os.path.basename(file_path)\n",
    "\n",
    "        # Ensure filename is the first column\n",
    "        data = data[['filename'] + expected_columns]\n",
    "\n",
    "        # Drop rows and columns that are completely NA\n",
    "        valid_data = filtered_data.dropna(how='all').dropna(axis=1, how='all')\n",
    "        \n",
    "        # Concatenate data while checking for non-empty DataFrame to avoid FutureWarning\n",
    "        if not valid_data.empty:\n",
    "            all_data = pd.concat([all_data, valid_data], ignore_index=True)\n",
    "        \n",
    "        # Identify invalid rows and add them to the errors DataFrame\n",
    "        invalid_rows = data[data.isna().any(axis=1)]\n",
    "        if not invalid_rows.empty:\n",
    "            invalid_row_str = invalid_rows[expected_columns].apply(lambda x: ','.join(x.fillna('').map(str)), axis=1)\n",
    "            errors_df = pd.DataFrame({\n",
    "                'filename': os.path.basename(file_path),\n",
    "                'error_row': invalid_row_str\n",
    "            })\n",
    "            errors = pd.concat([errors, errors_df], ignore_index=True)\n",
    "    except Exception as e:\n",
    "        print(f\"Error processing {file_path}: {str(e)}\")\n",
    "\n",
    "# Output results\n",
    "print(f\"Total valid rows loaded: {len(all_data)}\")\n",
    "print(f\"Total invalid rows found: {len(errors)}\")\n"
   ]
  },
  {
   "cell_type": "markdown",
   "metadata": {},
   "source": [
    "Exportar los datos y los errores a la carpeta indicada"
   ]
  },
  {
   "cell_type": "code",
   "execution_count": null,
   "metadata": {},
   "outputs": [],
   "source": [
    "# Export errors df to a csv file\n",
    "errors.to_csv('./data_clean/errors.csv', index=False)\n",
    "\n",
    "# Export the cleaned data to a CSV file\n",
    "all_data.to_csv('./data_clean/all_data.csv', index=False)"
   ]
  },
  {
   "cell_type": "markdown",
   "metadata": {},
   "source": [
    "# Inicia código de Horus"
   ]
  },
  {
   "cell_type": "code",
   "execution_count": 25,
   "metadata": {},
   "outputs": [
    {
     "name": "stderr",
     "output_type": "stream",
     "text": [
      "Procesando directorios:   0%|          | 0/16 [00:00<?, ?it/s]"
     ]
    },
    {
     "name": "stderr",
     "output_type": "stream",
     "text": [
      "Procesando archivos: 100%|██████████| 9/9 [01:05<00:00,  7.24s/it]\n",
      "Procesando archivos: 100%|██████████| 19/19 [02:21<00:00,  7.45s/it]t]\n",
      "Procesando archivos: 100%|██████████| 2/2 [00:08<00:00,  4.36s/it]s/it]\n",
      "Procesando archivos: 100%|██████████| 24/24 [02:22<00:00,  5.92s/it]t] \n",
      "Procesando archivos: 100%|██████████| 11/11 [01:29<00:00,  8.11s/it]t]\n",
      "Procesando archivos: 100%|██████████| 1/1 [00:13<00:00, 13.86s/it]/it]\n",
      "Procesando archivos: 100%|██████████| 6/6 [01:28<00:00, 14.71s/it]/it]\n",
      "Procesando directorios: 100%|██████████| 16/16 [09:09<00:00, 34.31s/it]\n"
     ]
    },
    {
     "name": "stdout",
     "output_type": "stream",
     "text": [
      "                 producto                                    codigo_producto  \\\n",
      "0   boligrafo tinta negra         blister 3 piezas. retractil. punto mediano   \n",
      "1   boligrafo tinta negra                      bolsa 4 piezas. punto mediano   \n",
      "2   boligrafo tinta negra                         bolsa 4 piezas. punto fino   \n",
      "3   boligrafo tinta negra                      bolsa 3 piezas. punto mediano   \n",
      "4   boligrafo tinta negra                     blister 3 piezas. punto grueso   \n",
      "5   boligrafo tinta negra                    blister 2 piezas. punto mediano   \n",
      "6   boligrafo tinta negra                  bolsa 2 piezas. punto mediano (m)   \n",
      "7          cinta adhesiva  blister 1 pieza. 19 mm. x 30 m 550. transparen...   \n",
      "8          cinta adhesiva  blister 1 pieza. 12 mm. x 30 m. transparente. ...   \n",
      "9       colores de madera                              caja 12 piezas. largo   \n",
      "10      colores de madera                              caja 18 piezas. largo   \n",
      "11      colores de madera                              caja 24 piezas. largo   \n",
      "12      colores de madera                  caja 12 piezas. c.b. 42891. largo   \n",
      "13      colores de madera     caja 12 piezas. 68-4012. con sacapuntas. largo   \n",
      "14      colores de madera          caja 20 piezas. borrables. 68-4420. largo   \n",
      "15      colores de madera     caja 24 piezas. 68-4024. con sacapuntas. largo   \n",
      "16      colores de madera     caja 36 piezas. 68-4036. con sacapuntas. largo   \n",
      "17      colores de madera  caja 12 piezas. triangular. c.b. 832123 o c.b....   \n",
      "18                 compas                             blister 1 pieza. 49069   \n",
      "19               crayones         bote plastico 28 ceras. jumbo. c.b. 201539   \n",
      "\n",
      "                                        marca subcategoria_producto  \\\n",
      "0                              bic. bu3. grip      material escolar   \n",
      "1             bic. cristal. dura + el clasico      material escolar   \n",
      "2                     bic. cristal. precision      material escolar   \n",
      "3                               bic. diamante      material escolar   \n",
      "4                      bic. diamante grip 1,2      material escolar   \n",
      "5                     paper mate. eraser-mate      material escolar   \n",
      "6   paper mate. kilometrico o kilometrico 100      material escolar   \n",
      "7                                   scotch 3m      material escolar   \n",
      "8                              scotch 3m. 550      material escolar   \n",
      "9                              bic. evolution      material escolar   \n",
      "10                             bic. evolution      material escolar   \n",
      "11                             bic. evolution      material escolar   \n",
      "12                     bic. evolution. circus      material escolar   \n",
      "13                                    crayola      material escolar   \n",
      "14                                    crayola      material escolar   \n",
      "15                                    crayola      material escolar   \n",
      "16                                    crayola      material escolar   \n",
      "17                         maped. color' peps      material escolar   \n",
      "18                       maped. technic metal      material escolar   \n",
      "19                                    crayola      material escolar   \n",
      "\n",
      "   categoria_producto  precio      fecha   lugar_venta  \\\n",
      "0    utiles escolares   24.90 2018-01-15  mega soriana   \n",
      "1    utiles escolares   22.90 2018-01-15  mega soriana   \n",
      "2    utiles escolares   24.90 2018-01-15  mega soriana   \n",
      "3    utiles escolares   22.00 2018-01-15  mega soriana   \n",
      "4    utiles escolares   28.90 2018-01-15  mega soriana   \n",
      "5    utiles escolares   48.00 2018-01-15  mega soriana   \n",
      "6    utiles escolares   11.90 2018-01-15  mega soriana   \n",
      "7    utiles escolares   27.50 2018-01-15  mega soriana   \n",
      "8    utiles escolares   19.99 2018-01-15  mega soriana   \n",
      "9    utiles escolares   58.90 2018-01-15  mega soriana   \n",
      "10   utiles escolares   90.80 2018-01-15  mega soriana   \n",
      "11   utiles escolares  118.00 2018-01-15  mega soriana   \n",
      "12   utiles escolares   68.80 2018-01-15  mega soriana   \n",
      "13   utiles escolares   65.00 2018-01-15  mega soriana   \n",
      "14   utiles escolares  129.99 2018-01-15  mega soriana   \n",
      "15   utiles escolares  129.99 2018-01-15  mega soriana   \n",
      "16   utiles escolares  195.00 2018-01-15  mega soriana   \n",
      "17   utiles escolares   55.00 2018-01-15  mega soriana   \n",
      "18   utiles escolares   53.00 2018-01-15  mega soriana   \n",
      "19   utiles escolares   98.00 2018-01-15  mega soriana   \n",
      "\n",
      "                     tipo_establecimiento  \\\n",
      "0   supermercado / tienda de autoservicio   \n",
      "1   supermercado / tienda de autoservicio   \n",
      "2   supermercado / tienda de autoservicio   \n",
      "3   supermercado / tienda de autoservicio   \n",
      "4   supermercado / tienda de autoservicio   \n",
      "5   supermercado / tienda de autoservicio   \n",
      "6   supermercado / tienda de autoservicio   \n",
      "7   supermercado / tienda de autoservicio   \n",
      "8   supermercado / tienda de autoservicio   \n",
      "9   supermercado / tienda de autoservicio   \n",
      "10  supermercado / tienda de autoservicio   \n",
      "11  supermercado / tienda de autoservicio   \n",
      "12  supermercado / tienda de autoservicio   \n",
      "13  supermercado / tienda de autoservicio   \n",
      "14  supermercado / tienda de autoservicio   \n",
      "15  supermercado / tienda de autoservicio   \n",
      "16  supermercado / tienda de autoservicio   \n",
      "17  supermercado / tienda de autoservicio   \n",
      "18  supermercado / tienda de autoservicio   \n",
      "19  supermercado / tienda de autoservicio   \n",
      "\n",
      "                  nombre_establecimiento  \\\n",
      "0   mega soriana sucursal aguascalientes   \n",
      "1   mega soriana sucursal aguascalientes   \n",
      "2   mega soriana sucursal aguascalientes   \n",
      "3   mega soriana sucursal aguascalientes   \n",
      "4   mega soriana sucursal aguascalientes   \n",
      "5   mega soriana sucursal aguascalientes   \n",
      "6   mega soriana sucursal aguascalientes   \n",
      "7   mega soriana sucursal aguascalientes   \n",
      "8   mega soriana sucursal aguascalientes   \n",
      "9   mega soriana sucursal aguascalientes   \n",
      "10  mega soriana sucursal aguascalientes   \n",
      "11  mega soriana sucursal aguascalientes   \n",
      "12  mega soriana sucursal aguascalientes   \n",
      "13  mega soriana sucursal aguascalientes   \n",
      "14  mega soriana sucursal aguascalientes   \n",
      "15  mega soriana sucursal aguascalientes   \n",
      "16  mega soriana sucursal aguascalientes   \n",
      "17  mega soriana sucursal aguascalientes   \n",
      "18  mega soriana sucursal aguascalientes   \n",
      "19  mega soriana sucursal aguascalientes   \n",
      "\n",
      "                            direccion_establecimiento       localidad  \\\n",
      "0   aguascalientes nte. 802, esq. blvd. a zacateca...  aguascalientes   \n",
      "1   aguascalientes nte. 802, esq. blvd. a zacateca...  aguascalientes   \n",
      "2   aguascalientes nte. 802, esq. blvd. a zacateca...  aguascalientes   \n",
      "3   aguascalientes nte. 802, esq. blvd. a zacateca...  aguascalientes   \n",
      "4   aguascalientes nte. 802, esq. blvd. a zacateca...  aguascalientes   \n",
      "5   aguascalientes nte. 802, esq. blvd. a zacateca...  aguascalientes   \n",
      "6   aguascalientes nte. 802, esq. blvd. a zacateca...  aguascalientes   \n",
      "7   aguascalientes nte. 802, esq. blvd. a zacateca...  aguascalientes   \n",
      "8   aguascalientes nte. 802, esq. blvd. a zacateca...  aguascalientes   \n",
      "9   aguascalientes nte. 802, esq. blvd. a zacateca...  aguascalientes   \n",
      "10  aguascalientes nte. 802, esq. blvd. a zacateca...  aguascalientes   \n",
      "11  aguascalientes nte. 802, esq. blvd. a zacateca...  aguascalientes   \n",
      "12  aguascalientes nte. 802, esq. blvd. a zacateca...  aguascalientes   \n",
      "13  aguascalientes nte. 802, esq. blvd. a zacateca...  aguascalientes   \n",
      "14  aguascalientes nte. 802, esq. blvd. a zacateca...  aguascalientes   \n",
      "15  aguascalientes nte. 802, esq. blvd. a zacateca...  aguascalientes   \n",
      "16  aguascalientes nte. 802, esq. blvd. a zacateca...  aguascalientes   \n",
      "17  aguascalientes nte. 802, esq. blvd. a zacateca...  aguascalientes   \n",
      "18  aguascalientes nte. 802, esq. blvd. a zacateca...  aguascalientes   \n",
      "19  aguascalientes nte. 802, esq. blvd. a zacateca...  aguascalientes   \n",
      "\n",
      "   entidad_federativa    latitud    longitud  \n",
      "0      aguascalientes  21.916001 -102.290779  \n",
      "1      aguascalientes  21.916001 -102.290779  \n",
      "2      aguascalientes  21.916001 -102.290779  \n",
      "3      aguascalientes  21.916001 -102.290779  \n",
      "4      aguascalientes  21.916001 -102.290779  \n",
      "5      aguascalientes  21.916001 -102.290779  \n",
      "6      aguascalientes  21.916001 -102.290779  \n",
      "7      aguascalientes  21.916001 -102.290779  \n",
      "8      aguascalientes  21.916001 -102.290779  \n",
      "9      aguascalientes  21.916001 -102.290779  \n",
      "10     aguascalientes  21.916001 -102.290779  \n",
      "11     aguascalientes  21.916001 -102.290779  \n",
      "12     aguascalientes  21.916001 -102.290779  \n",
      "13     aguascalientes  21.916001 -102.290779  \n",
      "14     aguascalientes  21.916001 -102.290779  \n",
      "15     aguascalientes  21.916001 -102.290779  \n",
      "16     aguascalientes  21.916001 -102.290779  \n",
      "17     aguascalientes  21.916001 -102.290779  \n",
      "18     aguascalientes  21.916001 -102.290779  \n",
      "19     aguascalientes  21.916001 -102.290779  \n",
      "Total de registros procesados: 385622\n",
      "Total de variables: 15\n",
      "Total de variables por tipo de variable:\n",
      "object            11\n",
      "float64            3\n",
      "datetime64[ns]     1\n",
      "Name: count, dtype: int64\n"
     ]
    }
   ],
   "source": [
    "def procesar_archivo(archivo):\n",
    "    \"\"\"Procesa un archivo CSV y quita acentos utilizando unidecode.\n",
    "\n",
    "    Args:\n",
    "        archivo (str): La ruta del archivo CSV a procesar.\n",
    "\n",
    "    Returns:\n",
    "        pandas.DataFrame: El DataFrame resultante luego de procesar el archivo CSV.\n",
    "    \"\"\"\n",
    "\n",
    "    # Nombres de las columnas\n",
    "    columnas = [\n",
    "        \"producto\", \"codigo_producto\", \"marca\", \"subcategoria_producto\", \"categoria_producto\",\n",
    "        \"precio\", \"fecha\", \"lugar_venta\", \"tipo_establecimiento\", \"nombre_establecimiento\",\n",
    "        \"direccion_establecimiento\", \"localidad\", \"entidad_federativa\", \"latitud\", \"longitud\"\n",
    "    ]\n",
    "    \n",
    "    # Leer el archivo CSV con los nombres de las columnas especificados, manejo de comas y \n",
    "    # lectura de tipo fecha\n",
    "    df = pd.read_csv(archivo, names=columnas, quoting=csv.QUOTE_MINIMAL, parse_dates=['fecha'])\n",
    "    \n",
    "    # Convertir todas las columnas de texto a minúsculas\n",
    "    df = df.apply(lambda col: col.str.lower() if col.dtype == 'object' else col)\n",
    "    \n",
    "    # Quitar acentos de las columnas de tipo string\n",
    "    for columna in df.select_dtypes(include=['object']).columns:\n",
    "        df[columna] = df[columna].apply(lambda x: unidecode(x) if isinstance(x, str) else x)\n",
    "        \n",
    "    return df\n",
    "\n",
    "# Directorio donde se encuentran los archivos\n",
    "directorio_base = 'D:/Horus/Documentos/MGEProyecto_20240417'\n",
    "\n",
    "# Caracteres iniciales de las carpetas a considerar\n",
    "caracteres_iniciales = ['20']\n",
    "\n",
    "# Lista para almacenar los DataFrames de cada archivo\n",
    "dataframes = []\n",
    "\n",
    "# Recorrer los directorios correspondientes a los años\n",
    "for carpeta in tqdm(os.listdir(directorio_base), desc=\"Procesando directorios\"):\n",
    "    if any(carpeta.startswith(c) for c in caracteres_iniciales) and \\\n",
    "       os.path.isdir(os.path.join(directorio_base, carpeta)):\n",
    "        # Recorrer los archivos CSV dentro de la carpeta\n",
    "        for archivo_csv in tqdm(os.listdir(os.path.join(directorio_base, carpeta)), desc=\"Procesando archivos\"):\n",
    "            if archivo_csv.endswith('.csv'):\n",
    "                ruta_archivo = os.path.join(directorio_base, carpeta, archivo_csv)\n",
    "                # Procesar el archivo CSV y aplicar el filtro directamente\n",
    "                df = procesar_archivo(ruta_archivo)\n",
    "                df_filtrado = df[df['subcategoria_producto'] == 'material escolar']\n",
    "                # Agregar el DataFrame filtrado a la lista\n",
    "                dataframes.append(df_filtrado)\n",
    "\n",
    "# Concatenar todos los DataFrames en uno solo\n",
    "dataframe_final = pd.concat(dataframes, ignore_index=True)\n",
    "\n",
    "# Mostrar las primeras 20 filas del DataFrame final\n",
    "print(dataframe_final.head(20))\n",
    "\n",
    "# Información adicional\n",
    "print(f\"Total de registros procesados: {len(dataframe_final)}\")\n",
    "print(f\"Total de variables: {len(dataframe_final.columns)}\")\n",
    "print(\"Total de variables por tipo de variable:\")\n",
    "print(dataframe_final.dtypes.value_counts())"
   ]
  },
  {
   "cell_type": "markdown",
   "metadata": {},
   "source": [
    "### Se exportan los csv a local con el proesamiento y estructrua de carpetas para partcion por Año"
   ]
  },
  {
   "cell_type": "code",
   "execution_count": 9,
   "metadata": {},
   "outputs": [
    {
     "name": "stdout",
     "output_type": "stream",
     "text": [
      "Se han exportado los datos de 2018 a dataanthena\\2018\\profeco.csv\n",
      "Los datos para 2019 ya existen en dataanthena\\2019\\profeco.csv.\n",
      "Los datos para 2021 ya existen en dataanthena\\2021\\profeco.csv.\n",
      "Los datos para 2022 ya existen en dataanthena\\2022\\profeco.csv.\n",
      "Los datos para 2024 ya existen en dataanthena\\2024\\profeco.csv.\n"
     ]
    }
   ],
   "source": [
    "# Crear la carpeta raíz 'dataanthena' si no existe\n",
    "root_folder = 'dataanthena'\n",
    "os.makedirs(root_folder, exist_ok=True)\n",
    "\n",
    "# Crear un directorio para cada año y exportar los datos filtrados en un archivo CSV en ese directorio solo si no existe previamente\n",
    "for year in dataframe_final['fecha'].dt.year.unique():\n",
    "    year_folder = os.path.join(root_folder, f'{year}')\n",
    "    os.makedirs(year_folder, exist_ok=True)\n",
    "    csv_path = os.path.join(year_folder, 'profeco.csv')\n",
    "    if not os.path.exists(csv_path):\n",
    "        dataframe_final[dataframe_final['fecha'].dt.year == year].to_csv(csv_path, sep='|', index=False)\n",
    "        print(f\"Se han exportado los datos de {year} a {csv_path}\")\n",
    "    else:\n",
    "        print(f\"Los datos para {year} ya existen en {csv_path}.\")\n",
    "\n",
    "# s3://itam-athena-queries-horus/mgeproject/"
   ]
  },
  {
   "cell_type": "markdown",
   "metadata": {},
   "source": [
    "### Sesión en S3 para poder hacer consultas y responder preguntas con la tabla profeco Material Escolar"
   ]
  },
  {
   "cell_type": "code",
   "execution_count": 12,
   "metadata": {},
   "outputs": [],
   "source": [
    "# Abres un cliente de S3\n",
    "import boto3\n",
    "session = boto3.Session(profile_name='arquitectura', region_name=\"us-east-1\")\n",
    "s3 = session.client('s3')\n",
    "\n",
    "# Crea un nuevo Bucket\n",
    "# OJO: Aqui cambia el nombre del bucket, utiliza tu nombre como sufijo, para\n",
    "# que sea único en el mundo, si no te va a salir error. Si tuviste éxito, el\n",
    "# API de boto3 te va a regresar un HTTPStatusCode de 200. Eso es éxito.\n",
    "BUCKET_NAME = \"itam-athena-queries-horus\"\n"
   ]
  },
  {
   "cell_type": "markdown",
   "metadata": {},
   "source": [
    "### 1) ¿De qué año a qué año tienen datos de esa categoría (Material Escolar)?"
   ]
  },
  {
   "cell_type": "code",
   "execution_count": 27,
   "metadata": {},
   "outputs": [
    {
     "name": "stdout",
     "output_type": "stream",
     "text": [
      "   minimo_anio  maximo_anio\n",
      "0         2018         2024\n"
     ]
    }
   ],
   "source": [
    "query_profeco = '''\n",
    "SELECT\n",
    "  MIN(year) AS minimo_anio,\n",
    "  MAX(year) AS maximo_anio\n",
    "FROM\n",
    "  profeco_db.profeco;\n",
    "'''\n",
    "\n",
    "result = wr.athena.read_sql_query(query_profeco,\n",
    "                                   database=\"profeco_db\",\n",
    "                                   ctas_approach=False,\n",
    "                                   boto3_session=session)\n",
    "print(result)"
   ]
  },
  {
   "cell_type": "markdown",
   "metadata": {},
   "source": [
    "### 2) ¿Cuántos registros de fecha hay vacíos (Material Escolar)?"
   ]
  },
  {
   "cell_type": "code",
   "execution_count": 21,
   "metadata": {},
   "outputs": [
    {
     "name": "stdout",
     "output_type": "stream",
     "text": [
      "   registros_fecha_vacia\n",
      "0                      0\n"
     ]
    }
   ],
   "source": [
    "query_fecha_vacia = '''\n",
    "SELECT\n",
    "  COUNT(*) AS registros_fecha_vacia\n",
    "FROM\n",
    "  profeco_db.profeco\n",
    "WHERE\n",
    "  fecha IS NULL OR CAST(fecha AS VARCHAR) = '';\n",
    "'''\n",
    "\n",
    "result_fecha_vacia = wr.athena.read_sql_query(query_fecha_vacia,\n",
    "                                              database=\"profeco_db\",\n",
    "                                              ctas_approach=False,\n",
    "                                              boto3_session=session)\n",
    "\n",
    "print(result_fecha_vacia)\n"
   ]
  },
  {
   "cell_type": "markdown",
   "metadata": {},
   "source": [
    "### 3) ¿Cuántos registros tienes por año?"
   ]
  },
  {
   "cell_type": "code",
   "execution_count": 47,
   "metadata": {},
   "outputs": [
    {
     "name": "stdout",
     "output_type": "stream",
     "text": [
      "   year  total_registros\n",
      "0  2018            56876\n",
      "1  2019           102049\n",
      "2  2021           122839\n",
      "3  2022            41794\n",
      "4  2024            62064\n"
     ]
    }
   ],
   "source": [
    "query_registros_por_anio = '''\n",
    "SELECT\n",
    "  year,\n",
    "  COUNT(*) AS total_registros\n",
    "FROM\n",
    "  profeco_db.profeco\n",
    "GROUP BY\n",
    "  year\n",
    "ORDER BY\n",
    "  year ASC;\n",
    "'''\n",
    "\n",
    "resultado_registros_por_anio = wr.athena.read_sql_query(query_registros_por_anio,\n",
    "                                                        database=\"profeco_db\",\n",
    "                                                        ctas_approach=False,\n",
    "                                                        boto3_session=session)\n",
    "print(resultado_registros_por_anio)\n"
   ]
  },
  {
   "cell_type": "markdown",
   "metadata": {},
   "source": [
    "### 4) ¿Cuál es el precio mínimo, máximo, promedio, desviación estándar, mediana, cuantil 25 y 75% de tu categoría por año?"
   ]
  },
  {
   "cell_type": "code",
   "execution_count": 46,
   "metadata": {},
   "outputs": [
    {
     "name": "stdout",
     "output_type": "stream",
     "text": [
      "   anio  precio_minimo  precio_maximo  precio_promedio  desviacion_estandar  \\\n",
      "0  2018           0.68     543.000000        50.255665            48.420253   \n",
      "1  2019           1.00     595.000000        54.219292            51.723571   \n",
      "2  2021           1.00     756.179993        63.173550            62.683659   \n",
      "3  2022           1.00     774.309998        67.182060            64.511646   \n",
      "4  2024           1.43     758.000000        76.139099            73.547451   \n",
      "\n",
      "     mediana  cuantil_25  cuantil_75  \n",
      "0  38.086189   20.968925   62.681988  \n",
      "1  40.177975   21.716717   69.014137  \n",
      "2  44.669937   24.739460   80.283936  \n",
      "3  47.161289   25.329071   86.832985  \n",
      "4  53.588860   29.102730   96.582611  \n"
     ]
    }
   ],
   "source": [
    "query_metricas_precio = '''\n",
    "SELECT\n",
    "  year(fecha) AS anio,\n",
    "  MIN(precio) AS precio_minimo,\n",
    "  MAX(precio) AS precio_maximo,\n",
    "  AVG(precio) AS precio_promedio,\n",
    "  STDDEV(precio) AS desviacion_estandar,\n",
    "  APPROX_PERCENTILE(precio, 0.5) AS mediana,\n",
    "  APPROX_PERCENTILE(precio, 0.25) AS cuantil_25,\n",
    "  APPROX_PERCENTILE(precio, 0.75) AS cuantil_75\n",
    "FROM\n",
    "  profeco_db.profeco\n",
    "GROUP BY\n",
    "  year(fecha)\n",
    "ORDER BY\n",
    "  anio ASC;\n",
    "'''\n",
    "\n",
    "resultado_metricas_precio = wr.athena.read_sql_query(query_metricas_precio,\n",
    "                                                     database=\"profeco_db\",\n",
    "                                                     ctas_approach=False,\n",
    "                                                     boto3_session=session)\n",
    "print(resultado_metricas_precio)\n"
   ]
  },
  {
   "cell_type": "markdown",
   "metadata": {},
   "source": [
    "### 5) ¿Cuáles son el top 5 de marcas con mayor precio en cada estado  (Material Escolar)? "
   ]
  },
  {
   "cell_type": "code",
   "execution_count": 58,
   "metadata": {},
   "outputs": [
    {
     "name": "stdout",
     "output_type": "stream",
     "text": [
      "               localidad                        marca  precio_promedio\n",
      "0    baja california sur                        casio       313.072601\n",
      "1    baja california sur  norma. mis primeros colores       242.947495\n",
      "2    baja california sur                       celica       230.519287\n",
      "3    baja california sur                           hp       219.000000\n",
      "4    baja california sur            pilot. the shaker       212.000000\n",
      "..                   ...                          ...              ...\n",
      "155             tlaxcala                        casio       290.704376\n",
      "156             tlaxcala                           hp       239.000000\n",
      "157             tlaxcala                       celica       231.000000\n",
      "158             tlaxcala                sony (1x-48x)       220.399994\n",
      "159             tlaxcala            pilot. the shaker       212.333328\n",
      "\n",
      "[160 rows x 3 columns]\n"
     ]
    }
   ],
   "source": [
    "query_top5_marcas_precio_promedio_por_estado = '''\n",
    "WITH avg_price_per_brand AS (\n",
    "  SELECT\n",
    "    localidad,\n",
    "    marca,\n",
    "    AVG(precio) AS precio_promedio\n",
    "  FROM\n",
    "    profeco_db.profeco\n",
    "  GROUP BY\n",
    "    localidad,\n",
    "    marca\n",
    "),\n",
    "ranked_brands AS (\n",
    "  SELECT\n",
    "    localidad,\n",
    "    marca,\n",
    "    precio_promedio,\n",
    "    ROW_NUMBER() OVER (PARTITION BY localidad ORDER BY precio_promedio DESC) AS ranking\n",
    "  FROM\n",
    "    avg_price_per_brand\n",
    ")\n",
    "SELECT\n",
    "  localidad,\n",
    "  marca,\n",
    "  precio_promedio\n",
    "FROM\n",
    "  ranked_brands\n",
    "WHERE\n",
    "  ranking <= 5;\n",
    "'''\n",
    "\n",
    "resultado_top5_marcas_precio_promedio_por_estado = wr.athena.read_sql_query(query_top5_marcas_precio_promedio_por_estado,\n",
    "                                                                           database=\"profeco_db\",\n",
    "                                                                           ctas_approach=False,\n",
    "                                                                           boto3_session=session)\n",
    "print(resultado_top5_marcas_precio_promedio_por_estado)\n"
   ]
  },
  {
   "cell_type": "markdown",
   "metadata": {},
   "source": [
    "### 6) ¿Cuáles son el top 5 de marcas con menor precio en CDMX? "
   ]
  },
  {
   "cell_type": "code",
   "execution_count": 50,
   "metadata": {},
   "outputs": [
    {
     "name": "stdout",
     "output_type": "stream",
     "text": [
      "              marca  precio_promedio\n",
      "0        sony (48x)         5.994595\n",
      "1  office max. om30         7.500000\n",
      "2           popular         9.172501\n",
      "3    papermate. gel        10.079787\n",
      "4             janel        11.279653\n"
     ]
    }
   ],
   "source": [
    "query_top5_marcas_menor_precio_cdmx = '''\n",
    "SELECT\n",
    "  marca,\n",
    "  AVG(precio) AS precio_promedio\n",
    "FROM\n",
    "  profeco_db.profeco\n",
    "WHERE\n",
    "  localidad = 'ciudad de mexico'\n",
    "GROUP BY\n",
    "  marca\n",
    "ORDER BY\n",
    "  precio_promedio ASC\n",
    "LIMIT 5;\n",
    "'''\n",
    "\n",
    "resultado_top5_marcas_menor_precio_cdmx = wr.athena.read_sql_query(query_top5_marcas_menor_precio_cdmx,\n",
    "                                                                   database=\"profeco_db\",\n",
    "                                                                   ctas_approach=False,\n",
    "                                                                   boto3_session=session)\n",
    "print(resultado_top5_marcas_menor_precio_cdmx)\n"
   ]
  },
  {
   "cell_type": "markdown",
   "metadata": {},
   "source": [
    "### 7) ¿Cuáles son el top 5 de marcas con mayores observaciones? ¿Se parecen a las de nivel por estado? "
   ]
  },
  {
   "cell_type": "code",
   "execution_count": 61,
   "metadata": {},
   "outputs": [
    {
     "name": "stdout",
     "output_type": "stream",
     "text": [
      "Top 5 de marcas con mayores observaciones a nivel nacional:\n",
      "                    marca  total_observaciones\n",
      "0                 crayola                41804\n",
      "1                     s/m                23123\n",
      "2          bic. evolution                18899\n",
      "3  pritt. original (rojo)                10635\n",
      "4            norma. color                 9845\n",
      "\n",
      "Top 5 de marcas con mayores observaciones por estado:\n",
      "    localidad                   marca  total_observaciones\n",
      "0    campeche                 crayola                 1054\n",
      "1    campeche                     s/m                  764\n",
      "2    campeche          bic. evolution                  512\n",
      "3    campeche  pritt. original (rojo)                  295\n",
      "4    campeche      paper mate. mirado                  273\n",
      "..        ...                     ...                  ...\n",
      "155   sinaloa                 crayola                  450\n",
      "156   sinaloa                     s/m                  217\n",
      "157   sinaloa          bic. evolution                  197\n",
      "158   sinaloa  pritt. original (rojo)                  128\n",
      "159   sinaloa            norma. color                   88\n",
      "\n",
      "[160 rows x 3 columns]\n"
     ]
    }
   ],
   "source": [
    "# Consulta para obtener el top 5 de marcas con mayores observaciones a nivel nacional\n",
    "query_top5_marcas_mas_observaciones_nacional = '''\n",
    "SELECT\n",
    "  marca,\n",
    "  COUNT(*) AS total_observaciones\n",
    "FROM\n",
    "  profeco_db.profeco\n",
    "GROUP BY\n",
    "  marca\n",
    "ORDER BY\n",
    "  total_observaciones DESC\n",
    "LIMIT 5;\n",
    "'''\n",
    "\n",
    "# Consulta para obtener el top 5 de marcas con mayores observaciones por estado\n",
    "query_top5_marcas_mas_observaciones_estado = '''\n",
    "WITH observaciones_por_estado AS (\n",
    "  SELECT\n",
    "    localidad,\n",
    "    marca,\n",
    "    COUNT(*) AS total_observaciones\n",
    "  FROM\n",
    "    profeco_db.profeco\n",
    "  GROUP BY\n",
    "    localidad,\n",
    "    marca\n",
    ")\n",
    "SELECT\n",
    "  localidad,\n",
    "  marca,\n",
    "  total_observaciones\n",
    "FROM (\n",
    "  SELECT\n",
    "    localidad,\n",
    "    marca,\n",
    "    total_observaciones,\n",
    "    ROW_NUMBER() OVER (PARTITION BY localidad ORDER BY total_observaciones DESC) AS ranking_estado\n",
    "  FROM\n",
    "    observaciones_por_estado\n",
    ") ranked_brands\n",
    "WHERE\n",
    "  ranking_estado <= 5;\n",
    "'''\n",
    "\n",
    "# Ejecutar la consulta a nivel nacional\n",
    "resultado_top5_marcas_mas_observaciones_nacional = wr.athena.read_sql_query(query_top5_marcas_mas_observaciones_nacional,\n",
    "                                                                           database=\"profeco_db\",\n",
    "                                                                           ctas_approach=False,\n",
    "                                                                           boto3_session=session)\n",
    "\n",
    "# Ejecutar la consulta por estado\n",
    "resultado_top5_marcas_mas_observaciones_estado = wr.athena.read_sql_query(query_top5_marcas_mas_observaciones_estado,\n",
    "                                                                         database=\"profeco_db\",\n",
    "                                                                         ctas_approach=False,\n",
    "                                                                         boto3_session=session)\n",
    "\n",
    "print(\"Top 5 de marcas con mayores observaciones a nivel nacional:\")\n",
    "print(resultado_top5_marcas_mas_observaciones_nacional)\n",
    "print(\"\\nTop 5 de marcas con mayores observaciones por estado:\")\n",
    "print(resultado_top5_marcas_mas_observaciones_estado)\n"
   ]
  },
  {
   "cell_type": "markdown",
   "metadata": {},
   "source": [
    "### 8) Genera un boxplot por año, para cada una de las top 5 marcas de tu categoría."
   ]
  },
  {
   "cell_type": "code",
   "execution_count": 71,
   "metadata": {},
   "outputs": [
    {
     "data": {
      "image/png": "[encoded data removed]",
      "text/plain": [
       "<Figure size 1200x800 with 1 Axes>"
      ]
     },
     "metadata": {},
     "output_type": "display_data"
    }
   ],
   "source": [
    "# Lista de las top 5 marcas de tu categoría\n",
    "top_marcas = resultado_top5_marcas_mas_observaciones_nacional['marca'].tolist()\n",
    "\n",
    "# Consulta para obtener los datos de precios por año para cada una de las top marcas\n",
    "query_precios_por_marca_por_anio = '''\n",
    "SELECT\n",
    "  year,\n",
    "  marca,\n",
    "  precio\n",
    "FROM\n",
    "  profeco_db.profeco\n",
    "WHERE\n",
    "  marca IN {}\n",
    "'''.format(tuple(top_marcas))\n",
    "\n",
    "# Ejecutar la consulta\n",
    "datos_precios_por_marca_por_anio = wr.athena.read_sql_query(query_precios_por_marca_por_anio,\n",
    "                                                             database=\"profeco_db\",\n",
    "                                                             ctas_approach=False,\n",
    "                                                             boto3_session=session)\n",
    "\n",
    "# Crear un boxplot por año para cada una de las top marcas de tu categoría\n",
    "plt.figure(figsize=(12, 8))\n",
    "sns.boxplot(data=datos_precios_por_marca_por_anio, x='year', y='precio', hue='marca')\n",
    "plt.title('Boxplot de precios por año para las top 5 marcas de tu categoría')\n",
    "plt.xlabel('Año')\n",
    "plt.ylabel('Precio')\n",
    "plt.xticks(rotation=45)\n",
    "plt.legend(title='Marca', bbox_to_anchor=(1.05, 1), loc='upper left')\n",
    "plt.tight_layout()\n",
    "plt.show()\n"
   ]
  }
 ],
 "metadata": {
  "kernelspec": {
   "display_name": "Python 3",
   "language": "python",
   "name": "python3"
  },
  "language_info": {
   "codemirror_mode": {
    "name": "ipython",
    "version": 3
   },
   "file_extension": ".py",
   "mimetype": "text/x-python",
   "name": "python",
   "nbconvert_exporter": "python",
   "pygments_lexer": "ipython3",
   "version": "3.11.8"
  }
 },
 "nbformat": 4,
 "nbformat_minor": 2
}
