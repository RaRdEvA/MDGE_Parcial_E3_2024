{
 "cells": [
  {
   "cell_type": "markdown",
   "id": "c01cf501",
   "metadata": {},
   "source": [
    "- Carga el CSV en Spark."
   ]
  },
  {
   "cell_type": "code",
   "execution_count": null,
   "id": "c5806589",
   "metadata": {},
   "outputs": [],
   "source": [
    "from pyspark.sql import SparkSession\n",
    "\n",
    "# Create or get a Spark session\n",
    "spark = SparkSession.builder.appName(\"Read Compressed CSV from S3\").getOrCreate()\n",
    "\n",
    "# Define the path to your S3 bucket and compressed CSV files\n",
    "s3_bucket_path = \"s3://mdge-e3-2024/*.csv.gz\"\n",
    "\n",
    "# Read the compressed CSV files into a DataFrame\n",
    "df = spark.read.csv(s3_bucket_path, header=True, inferSchema=True)"
   ]
  },
  {
   "cell_type": "code",
   "execution_count": 5,
   "id": "7a7aec43",
   "metadata": {},
   "outputs": [
    {
     "data": {
      "application/vnd.jupyter.widget-view+json": {
       "model_id": "",
       "version_major": 2,
       "version_minor": 0
      },
      "text/plain": [
       "FloatProgress(value=0.0, bar_style='info', description='Progress:', layout=Layout(height='25px', width='50%'),…"
      ]
     },
     "metadata": {},
     "output_type": "display_data"
    }
   ],
   "source": [
    "# Add \"year\" and \"month\" columns based on \"fecha_registro\"\n",
    "from pyspark.sql import functions as F\n",
    "df = df.withColumn(\"year\", F.year(\"fecha_registro\"))\n",
    "df = df.withColumn(\"month\", F.month(\"fecha_registro\"))"
   ]
  },
  {
   "cell_type": "markdown",
   "id": "a71b826d",
   "metadata": {},
   "source": [
    "- Guarda el CSV como parquet en S3, particionalo por `catalogo`. (Utiliza todos los trucos que consideres)."
   ]
  },
  {
   "cell_type": "code",
   "execution_count": 7,
   "id": "02c68edf",
   "metadata": {},
   "outputs": [
    {
     "data": {
      "application/vnd.jupyter.widget-view+json": {
       "model_id": "",
       "version_major": 2,
       "version_minor": 0
      },
      "text/plain": [
       "FloatProgress(value=0.0, bar_style='info', description='Progress:', layout=Layout(height='25px', width='50%'),…"
      ]
     },
     "metadata": {},
     "output_type": "display_data"
    }
   ],
   "source": [
    "# Define output directory\n",
    "output_directory = \"s3://mdge-e3-2024/parquet_files_partitioned/\"\n",
    "\n",
    "# Write the DataFrame to Parquet, partitioned by 'categoria', 'year', and 'month'\n",
    "df.write.partitionBy(\"categoria\", \"year\", \"month\").mode('overwrite').parquet(output_directory)"
   ]
  },
  {
   "cell_type": "markdown",
   "id": "87f99ba5",
   "metadata": {},
   "source": [
    "- Carga el parquet en Spark."
   ]
  },
  {
   "cell_type": "code",
   "execution_count": 8,
   "id": "7f2d9f27",
   "metadata": {},
   "outputs": [
    {
     "data": {
      "application/vnd.jupyter.widget-view+json": {
       "model_id": "",
       "version_major": 2,
       "version_minor": 0
      },
      "text/plain": [
       "FloatProgress(value=0.0, bar_style='info', description='Progress:', layout=Layout(height='25px', width='50%'),…"
      ]
     },
     "metadata": {},
     "output_type": "display_data"
    }
   ],
   "source": [
    "# Read the Parquet files into a DataFrame\n",
    "df_parquet = spark.read.parquet(output_directory)"
   ]
  },
  {
   "cell_type": "markdown",
   "id": "a99c9d47",
   "metadata": {},
   "source": [
    "Contesta las siguientes preguntas utilizando PySpark. Realiza el siguiente análisis **(por año)** y sobre todos los catálogos."
   ]
  },
  {
   "cell_type": "markdown",
   "id": "5ab87351",
   "metadata": {},
   "source": [
    "- ¿Cuántos catálogos diferentes tenemos?"
   ]
  },
  {
   "cell_type": "code",
   "execution_count": 9,
   "id": "df558d74",
   "metadata": {},
   "outputs": [
    {
     "data": {
      "application/vnd.jupyter.widget-view+json": {
       "model_id": "",
       "version_major": 2,
       "version_minor": 0
      },
      "text/plain": [
       "FloatProgress(value=0.0, bar_style='info', description='Progress:', layout=Layout(height='25px', width='50%'),…"
      ]
     },
     "metadata": {},
     "output_type": "display_data"
    },
    {
     "name": "stdout",
     "output_type": "stream",
     "text": [
      "+-----------------+\n",
      "|distinct_catalogs|\n",
      "+-----------------+\n",
      "|               12|\n",
      "+-----------------+"
     ]
    }
   ],
   "source": [
    "from pyspark.sql.functions import countDistinct\n",
    "\n",
    "# Count distinct catalogs\n",
    "distinct_catalogs = df_parquet.agg(countDistinct(\"catalogo\").alias(\"distinct_catalogs\"))\n",
    "distinct_catalogs.show()"
   ]
  },
  {
   "cell_type": "markdown",
   "id": "c481d42a",
   "metadata": {},
   "source": [
    "- ¿Cuáles son los20 catálogos con más observaciones? Guarda la salida de este query en tu bucket de S3, lo necesitaremos más adelante."
   ]
  },
  {
   "cell_type": "code",
   "execution_count": 11,
   "id": "c3de264f",
   "metadata": {},
   "outputs": [
    {
     "data": {
      "application/vnd.jupyter.widget-view+json": {
       "model_id": "",
       "version_major": 2,
       "version_minor": 0
      },
      "text/plain": [
       "FloatProgress(value=0.0, bar_style='info', description='Progress:', layout=Layout(height='25px', width='50%'),…"
      ]
     },
     "metadata": {},
     "output_type": "display_data"
    },
    {
     "name": "stdout",
     "output_type": "stream",
     "text": [
      "+-------------------+--------+\n",
      "|           catalogo|   count|\n",
      "+-------------------+--------+\n",
      "|            basicos|72474782|\n",
      "|       medicamentos|29402008|\n",
      "|  electrodomesticos|12276099|\n",
      "| frutas y legumbres| 7571260|\n",
      "|   utiles escolares| 5160328|\n",
      "|           mercados| 3292185|\n",
      "|           juguetes| 2651525|\n",
      "|              pacic| 1079162|\n",
      "|pescados y mariscos|  789438|\n",
      "|          navidenos|  428681|\n",
      "|              tenis|   31626|\n",
      "|        aeropuertos|     581|\n",
      "+-------------------+--------+"
     ]
    }
   ],
   "source": [
    "from pyspark.sql.functions import desc\n",
    "\n",
    "# Find top 20 catalogs by number of observations\n",
    "top_20_catalogs = df_parquet.groupBy(\"catalogo\").count().orderBy(desc(\"count\")).limit(20)\n",
    "top_20_catalogs.show()\n",
    "\n",
    "# Save the output to S3\n",
    "top_20_catalogs.write.mode('overwrite').parquet(\"s3://mdge-e3-2024/top_20_catalogs/\")\n"
   ]
  },
  {
   "cell_type": "markdown",
   "id": "b067e19e",
   "metadata": {},
   "source": [
    "- ¿Tenemos datos de todos los estados del país? De no ser así, ¿cuáles faltan?"
   ]
  },
  {
   "cell_type": "code",
   "execution_count": 25,
   "id": "3dc1455c",
   "metadata": {},
   "outputs": [
    {
     "data": {
      "application/vnd.jupyter.widget-view+json": {
       "model_id": "",
       "version_major": 2,
       "version_minor": 0
      },
      "text/plain": [
       "FloatProgress(value=0.0, bar_style='info', description='Progress:', layout=Layout(height='25px', width='50%'),…"
      ]
     },
     "metadata": {},
     "output_type": "display_data"
    },
    {
     "name": "stdout",
     "output_type": "stream",
     "text": [
      "Missing States: ['distrito federal']"
     ]
    }
   ],
   "source": [
    "all_states = [\n",
    "    \"aguascalientes\", \"baja california\", \"baja california sur\", \"campeche\", \"chiapas\",\n",
    "    \"chihuahua\", \"ciudad de mexico\", \"distrito federal\", \"coahuila de zaragoza\", \"colima\", \"durango\", \"guanajuato\",\n",
    "    \"guerrero\", \"hidalgo\", \"jalisco\", \"estado de mexico\", \"michoacan de ocampo\", \"morelos\", \"nayarit\",\n",
    "    \"nuevo leon\", \"oaxaca\", \"puebla\", \"queretaro\", \"quintana roo\", \"san luis potosi\",\n",
    "    \"sinaloa\", \"sonora\", \"tabasco\", \"tamaulipas\", \"tlaxcala\", \"veracruz\", \"yucatan\", \"zacatecas\"\n",
    "]\n",
    "\n",
    "# Get distinct states from DataFrame\n",
    "states_in_data = df_parquet.select(\"estado\").distinct().rdd.flatMap(lambda x: x).collect()\n",
    "\n",
    "# Find missing states\n",
    "missing_states = [state for state in all_states if state not in states_in_data]\n",
    "print(\"Missing States:\", missing_states)"
   ]
  },
  {
   "cell_type": "markdown",
   "id": "f5d22add",
   "metadata": {},
   "source": [
    "- ¿Cuántas observaciones tenemos por estado?"
   ]
  },
  {
   "cell_type": "code",
   "execution_count": 13,
   "id": "7c7be642",
   "metadata": {},
   "outputs": [
    {
     "data": {
      "application/vnd.jupyter.widget-view+json": {
       "model_id": "",
       "version_major": 2,
       "version_minor": 0
      },
      "text/plain": [
       "FloatProgress(value=0.0, bar_style='info', description='Progress:', layout=Layout(height='25px', width='50%'),…"
      ]
     },
     "metadata": {},
     "output_type": "display_data"
    },
    {
     "name": "stdout",
     "output_type": "stream",
     "text": [
      "+----------------+--------+\n",
      "|          estado|   count|\n",
      "+----------------+--------+\n",
      "|      tamaulipas| 3836149|\n",
      "|       zacatecas| 3221774|\n",
      "|      nuevo leon| 5229471|\n",
      "|        campeche| 2611299|\n",
      "| san luis potosi| 2605944|\n",
      "|        veracruz| 4181993|\n",
      "|         morelos| 1509095|\n",
      "|      guanajuato| 4933886|\n",
      "|          sonora| 3511149|\n",
      "|        tlaxcala| 2843154|\n",
      "|         nayarit|  992414|\n",
      "|         sinaloa| 2264742|\n",
      "|          oaxaca| 2244336|\n",
      "|        guerrero| 1858948|\n",
      "|    quintana roo| 4754708|\n",
      "|       queretaro| 3385694|\n",
      "|estado de mexico|17656040|\n",
      "|          puebla| 3514964|\n",
      "|         durango| 2389334|\n",
      "|         jalisco| 6446410|\n",
      "+----------------+--------+\n",
      "only showing top 20 rows"
     ]
    }
   ],
   "source": [
    "# Count observations by state\n",
    "observations_by_state = df_parquet.groupBy(\"estado\").count()\n",
    "observations_by_state.show()"
   ]
  },
  {
   "cell_type": "markdown",
   "id": "0ceeb929",
   "metadata": {},
   "source": [
    "- De cada estado obten: el número de catalogos diferentes por año, ¿ha aumentado el número de catálogos con el tiempo?"
   ]
  },
  {
   "cell_type": "code",
   "execution_count": 14,
   "id": "870bea08",
   "metadata": {},
   "outputs": [
    {
     "data": {
      "application/vnd.jupyter.widget-view+json": {
       "model_id": "",
       "version_major": 2,
       "version_minor": 0
      },
      "text/plain": [
       "FloatProgress(value=0.0, bar_style='info', description='Progress:', layout=Layout(height='25px', width='50%'),…"
      ]
     },
     "metadata": {},
     "output_type": "display_data"
    },
    {
     "name": "stdout",
     "output_type": "stream",
     "text": [
      "+-------------------+----+-----------------+\n",
      "|             estado|year|distinct_catalogs|\n",
      "+-------------------+----+-----------------+\n",
      "|     aguascalientes|2021|               10|\n",
      "|             colima|2017|               10|\n",
      "|         nuevo leon|2023|               11|\n",
      "|     aguascalientes|2019|               11|\n",
      "|          zacatecas|2016|                9|\n",
      "|          queretaro|2023|               11|\n",
      "|            sinaloa|2021|                9|\n",
      "|            hidalgo|2023|               11|\n",
      "|       quintana roo|2016|               10|\n",
      "|            jalisco|2016|                9|\n",
      "|            yucatan|2016|               10|\n",
      "|             puebla|2020|                8|\n",
      "|baja california sur|2019|               10|\n",
      "|         tamaulipas|2020|                9|\n",
      "|             oaxaca|2024|                9|\n",
      "|         tamaulipas|2015|               10|\n",
      "|baja california sur|2023|               11|\n",
      "|    san luis potosi|2015|               10|\n",
      "|   ciudad de mexico|2021|               10|\n",
      "|            chiapas|2016|               10|\n",
      "+-------------------+----+-----------------+\n",
      "only showing top 20 rows\n",
      "\n",
      "+---------------+----+-----------------+\n",
      "|         estado|year|distinct_catalogs|\n",
      "+---------------+----+-----------------+\n",
      "| aguascalientes|2015|               10|\n",
      "| aguascalientes|2016|               10|\n",
      "| aguascalientes|2017|               10|\n",
      "| aguascalientes|2018|                9|\n",
      "| aguascalientes|2019|               11|\n",
      "| aguascalientes|2020|                9|\n",
      "| aguascalientes|2021|               10|\n",
      "| aguascalientes|2022|               11|\n",
      "| aguascalientes|2023|               11|\n",
      "| aguascalientes|2024|                9|\n",
      "|baja california|2015|               10|\n",
      "|baja california|2016|               10|\n",
      "|baja california|2017|               10|\n",
      "|baja california|2018|               10|\n",
      "|baja california|2019|               10|\n",
      "|baja california|2020|                9|\n",
      "|baja california|2021|                9|\n",
      "|baja california|2022|               11|\n",
      "|baja california|2023|               11|\n",
      "|baja california|2024|               10|\n",
      "+---------------+----+-----------------+\n",
      "only showing top 20 rows"
     ]
    }
   ],
   "source": [
    "from pyspark.sql.functions import year\n",
    "\n",
    "# Count distinct catalogs per state per year\n",
    "catalogs_per_state_per_year = df_parquet.groupBy(\"estado\", \"year\").agg(countDistinct(\"catalogo\").alias(\"distinct_catalogs\"))\n",
    "catalogs_per_state_per_year.show()\n",
    "\n",
    "# To check if the number of catalogs has increased over the years, we will order the results\n",
    "trend_catalogs = catalogs_per_state_per_year.orderBy(\"estado\", \"year\")\n",
    "trend_catalogs.show()"
   ]
  },
  {
   "cell_type": "markdown",
   "id": "bb331a87",
   "metadata": {},
   "source": [
    "Utilizando Spark contesta las siguientes preguntas a partir **del catálogo que\n",
    "le tocó a tu equipo**. Recuerda trabajar en el archivo con los datos particionados\n",
    "de otra manera tus queries van a tardar mucho."
   ]
  },
  {
   "cell_type": "code",
   "execution_count": 31,
   "id": "8919b090",
   "metadata": {},
   "outputs": [
    {
     "data": {
      "application/vnd.jupyter.widget-view+json": {
       "model_id": "",
       "version_major": 2,
       "version_minor": 0
      },
      "text/plain": [
       "FloatProgress(value=0.0, bar_style='info', description='Progress:', layout=Layout(height='25px', width='50%'),…"
      ]
     },
     "metadata": {},
     "output_type": "display_data"
    }
   ],
   "source": [
    "from pyspark.sql import SparkSession\n",
    "\n",
    "spark = SparkSession.builder.appName(\"Material Escolar Analysis\").getOrCreate()\n",
    "\n",
    "# Read data from the specific category partition\n",
    "df_cat = spark.read.parquet(\"s3://mdge-e3-2024/parquet_files_partitioned/categoria=material escolar/\")"
   ]
  },
  {
   "cell_type": "markdown",
   "id": "4dd7d1f3",
   "metadata": {},
   "source": [
    "- ¿Cuańtas marcas diferentes tiene tu categoría?"
   ]
  },
  {
   "cell_type": "code",
   "execution_count": 32,
   "id": "95aeefd4",
   "metadata": {},
   "outputs": [
    {
     "data": {
      "application/vnd.jupyter.widget-view+json": {
       "model_id": "",
       "version_major": 2,
       "version_minor": 0
      },
      "text/plain": [
       "FloatProgress(value=0.0, bar_style='info', description='Progress:', layout=Layout(height='25px', width='50%'),…"
      ]
     },
     "metadata": {},
     "output_type": "display_data"
    },
    {
     "name": "stdout",
     "output_type": "stream",
     "text": [
      "+---------------+\n",
      "|distinct_brands|\n",
      "+---------------+\n",
      "|           1019|\n",
      "+---------------+"
     ]
    }
   ],
   "source": [
    "from pyspark.sql.functions import countDistinct\n",
    "\n",
    "# Count distinct brands in the category\n",
    "distinct_brands = df_cat.agg(countDistinct(\"marca\").alias(\"distinct_brands\"))\n",
    "distinct_brands.show()"
   ]
  },
  {
   "cell_type": "markdown",
   "id": "f2b2613e",
   "metadata": {},
   "source": [
    "- ¿Cuál es la marca con mayor precio? ¿En qué estado?"
   ]
  },
  {
   "cell_type": "code",
   "execution_count": 33,
   "id": "b6623272",
   "metadata": {},
   "outputs": [
    {
     "data": {
      "application/vnd.jupyter.widget-view+json": {
       "model_id": "",
       "version_major": 2,
       "version_minor": 0
      },
      "text/plain": [
       "FloatProgress(value=0.0, bar_style='info', description='Progress:', layout=Layout(height='25px', width='50%'),…"
      ]
     },
     "metadata": {},
     "output_type": "display_data"
    },
    {
     "name": "stdout",
     "output_type": "stream",
     "text": [
      "+-----+----------------+----------+\n",
      "|marca|          estado|max_precio|\n",
      "+-----+----------------+----------+\n",
      "|  s/m|estado de mexico|   2275.01|\n",
      "+-----+----------------+----------+\n",
      "only showing top 1 row"
     ]
    }
   ],
   "source": [
    "from pyspark.sql.functions import max, struct\n",
    "\n",
    "# Find the brand with the highest price and the state\n",
    "brand_highest_price = df_cat.select(\"marca\", \"estado\", \"precio\").groupBy(\"marca\", \"estado\").agg(max(\"precio\").alias(\"max_precio\"))\n",
    "brand_highest_price.orderBy(\"max_precio\", ascending=False).show(1)\n"
   ]
  },
  {
   "cell_type": "markdown",
   "id": "f9405903",
   "metadata": {},
   "source": [
    "- ¿Cuál es la marca con menor precio en CDMX? (en aquel entonces Distrito Federal)"
   ]
  },
  {
   "cell_type": "code",
   "execution_count": 34,
   "id": "04cd18b2",
   "metadata": {},
   "outputs": [
    {
     "data": {
      "application/vnd.jupyter.widget-view+json": {
       "model_id": "",
       "version_major": 2,
       "version_minor": 0
      },
      "text/plain": [
       "FloatProgress(value=0.0, bar_style='info', description='Progress:', layout=Layout(height='25px', width='50%'),…"
      ]
     },
     "metadata": {},
     "output_type": "display_data"
    },
    {
     "name": "stdout",
     "output_type": "stream",
     "text": [
      "+-----+----------+\n",
      "|marca|min_precio|\n",
      "+-----+----------+\n",
      "|  s/m|      0.87|\n",
      "+-----+----------+\n",
      "only showing top 1 row"
     ]
    }
   ],
   "source": [
    "from pyspark.sql.functions import min\n",
    "\n",
    "# Filter by CDMX (Distrito Federal) and find the brand with the lowest price\n",
    "brand_lowest_price_cdmx = df_cat.filter(df_cat.estado == \"ciudad de mexico\").groupBy(\"marca\").agg(min(\"precio\").alias(\"min_precio\"))\n",
    "brand_lowest_price_cdmx.orderBy(\"min_precio\", ascending=True).show(1)"
   ]
  },
  {
   "cell_type": "markdown",
   "id": "2fe94c34",
   "metadata": {},
   "source": [
    "- ¿Cuál es la marca con mayores observaciones?"
   ]
  },
  {
   "cell_type": "code",
   "execution_count": 35,
   "id": "0826810e",
   "metadata": {},
   "outputs": [
    {
     "data": {
      "application/vnd.jupyter.widget-view+json": {
       "model_id": "",
       "version_major": 2,
       "version_minor": 0
      },
      "text/plain": [
       "FloatProgress(value=0.0, bar_style='info', description='Progress:', layout=Layout(height='25px', width='50%'),…"
      ]
     },
     "metadata": {},
     "output_type": "display_data"
    },
    {
     "name": "stdout",
     "output_type": "stream",
     "text": [
      "+-----+------+\n",
      "|marca| count|\n",
      "+-----+------+\n",
      "|  s/m|562386|\n",
      "+-----+------+\n",
      "only showing top 1 row"
     ]
    }
   ],
   "source": [
    "# Find the brand with the most observations\n",
    "brand_most_observations = df_cat.groupBy(\"marca\").count().orderBy(\"count\", ascending=False)\n",
    "brand_most_observations.show(1)"
   ]
  },
  {
   "cell_type": "markdown",
   "id": "cef871e4",
   "metadata": {},
   "source": [
    "- ¿Cuáles son el top 5 de marcas con mayor precio en cada estado? ¿Son diferentes?"
   ]
  },
  {
   "cell_type": "code",
   "execution_count": 36,
   "id": "ce2ebecf",
   "metadata": {},
   "outputs": [
    {
     "data": {
      "application/vnd.jupyter.widget-view+json": {
       "model_id": "",
       "version_major": 2,
       "version_minor": 0
      },
      "text/plain": [
       "FloatProgress(value=0.0, bar_style='info', description='Progress:', layout=Layout(height='25px', width='50%'),…"
      ]
     },
     "metadata": {},
     "output_type": "display_data"
    },
    {
     "name": "stdout",
     "output_type": "stream",
     "text": [
      "+--------------+--------------------+----------+\n",
      "|        estado|               marca|max_precio|\n",
      "+--------------+--------------------+----------+\n",
      "|aguascalientes|               casio|     619.0|\n",
      "|aguascalientes|       matematicas 1|     580.0|\n",
      "|aguascalientes|matematicas 3. sa...|     476.0|\n",
      "|aguascalientes|espanol 3. serie ...|     476.0|\n",
      "|aguascalientes|ciencias y tecnol...|     465.0|\n",
      "|aguascalientes|geografia 1. seri...|     465.0|\n",
      "|aguascalientes|matematicas 1. se...|     465.0|\n",
      "|aguascalientes|formacion civica ...|     465.0|\n",
      "|aguascalientes|historia 2. serie...|     465.0|\n",
      "|aguascalientes|biologia 1. serie...|     465.0|\n",
      "|aguascalientes|historia 1. serie...|     465.0|\n",
      "|aguascalientes|matematicas 2. se...|     465.0|\n",
      "|aguascalientes|formacion civica ...|     465.0|\n",
      "|aguascalientes|historia 2. serie...|     456.0|\n",
      "|aguascalientes|historia ii. seri...|     450.0|\n",
      "|aguascalientes|               norma|     449.0|\n",
      "|aguascalientes|formacion civica ...|     440.0|\n",
      "|aguascalientes|historia 2 de mex...|     440.0|\n",
      "|aguascalientes|lengua materna. e...|     440.0|\n",
      "|aguascalientes|matematicas 2. se...|     440.0|\n",
      "+--------------+--------------------+----------+\n",
      "only showing top 20 rows"
     ]
    }
   ],
   "source": [
    "# Find the top 5 brands with the highest price in each state\n",
    "top5_brands_per_state = df_cat.groupBy(\"estado\", \"marca\").agg(max(\"precio\").alias(\"max_precio\")).orderBy(\"estado\", \"max_precio\", ascending=[True, False])\n",
    "top5_brands_per_state.show()"
   ]
  },
  {
   "cell_type": "markdown",
   "id": "13512518",
   "metadata": {},
   "source": [
    "- ¿Cuáles son el top 5 de marcas con menor precio en CDMX? (en aquel entonces Distrito Federal)"
   ]
  },
  {
   "cell_type": "code",
   "execution_count": 37,
   "id": "28f3f5ff",
   "metadata": {},
   "outputs": [
    {
     "data": {
      "application/vnd.jupyter.widget-view+json": {
       "model_id": "",
       "version_major": 2,
       "version_minor": 0
      },
      "text/plain": [
       "FloatProgress(value=0.0, bar_style='info', description='Progress:', layout=Layout(height='25px', width='50%'),…"
      ]
     },
     "metadata": {},
     "output_type": "display_data"
    },
    {
     "name": "stdout",
     "output_type": "stream",
     "text": [
      "+----------+----------+\n",
      "|     marca|min_precio|\n",
      "+----------+----------+\n",
      "|       s/m|      0.87|\n",
      "|   dietrix|       2.5|\n",
      "|   pelikan|      2.74|\n",
      "|sony (48x)|       3.2|\n",
      "|       bic|       3.3|\n",
      "+----------+----------+"
     ]
    }
   ],
   "source": [
    "# Filter by CDMX and find the top 5 brands with the lowest price\n",
    "top5_lowest_price_cdmx = df_cat.filter(df_cat.estado == \"ciudad de mexico\").groupBy(\"marca\").agg(min(\"precio\").alias(\"min_precio\")).orderBy(\"min_precio\", ascending=True).limit(5)\n",
    "top5_lowest_price_cdmx.show()\n"
   ]
  },
  {
   "cell_type": "markdown",
   "id": "bd056238",
   "metadata": {},
   "source": [
    "- ¿Cuáles son el top 5 de marcas con mayores observaciones? ¿Se parecen a las de nivel por estado?"
   ]
  },
  {
   "cell_type": "code",
   "execution_count": 38,
   "id": "7cc5cf45",
   "metadata": {},
   "outputs": [
    {
     "data": {
      "application/vnd.jupyter.widget-view+json": {
       "model_id": "",
       "version_major": 2,
       "version_minor": 0
      },
      "text/plain": [
       "FloatProgress(value=0.0, bar_style='info', description='Progress:', layout=Layout(height='25px', width='50%'),…"
      ]
     },
     "metadata": {},
     "output_type": "display_data"
    },
    {
     "name": "stdout",
     "output_type": "stream",
     "text": [
      "+--------------------+------+\n",
      "|               marca| count|\n",
      "+--------------------+------+\n",
      "|                 s/m|562386|\n",
      "|             crayola|462957|\n",
      "|      bic. evolution|216912|\n",
      "|        norma. color|123132|\n",
      "|pritt. original (...|122245|\n",
      "+--------------------+------+"
     ]
    }
   ],
   "source": [
    "# Find the top 5 brands with the most observations globally\n",
    "global_top5_observation_brands = df_cat.groupBy(\"marca\").count().orderBy(\"count\", ascending=False).limit(5)\n",
    "global_top5_observation_brands.show()"
   ]
  },
  {
   "cell_type": "markdown",
   "id": "29996340",
   "metadata": {},
   "source": [
    "- ¿Ha dejado de existir alguna marca durante los años que tienes? ¿Cuál? ¿Cuándo desapareció?"
   ]
  },
  {
   "cell_type": "code",
   "execution_count": 39,
   "id": "440e31d6",
   "metadata": {},
   "outputs": [
    {
     "data": {
      "application/vnd.jupyter.widget-view+json": {
       "model_id": "",
       "version_major": 2,
       "version_minor": 0
      },
      "text/plain": [
       "FloatProgress(value=0.0, bar_style='info', description='Progress:', layout=Layout(height='25px', width='50%'),…"
      ]
     },
     "metadata": {},
     "output_type": "display_data"
    },
    {
     "name": "stdout",
     "output_type": "stream",
     "text": [
      "+--------------------+----------+---------+\n",
      "|               marca|first_year|last_year|\n",
      "+--------------------+----------+---------+\n",
      "|geografia. secund...|      2018|     2023|\n",
      "|espanol 1. leo, e...|      2016|     2017|\n",
      "|            spalding|      2015|     2015|\n",
      "|        scribe. 6231|      2015|     2022|\n",
      "|        zebra pencil|      2015|     2023|\n",
      "|fisica. ciencias ...|      2019|     2023|\n",
      "|formacion civica ...|      2015|     2018|\n",
      "|secuencia matemat...|      2015|     2017|\n",
      "|tenis con imagina...|      2018|     2019|\n",
      "|scribe. fast & fu...|      2017|     2018|\n",
      "|espanol 2. santil...|      2015|     2018|\n",
      "|formacion civica ...|      2015|     2023|\n",
      "|  norma. hello kitty|      2015|     2018|\n",
      "|formacion civica ...|      2015|     2019|\n",
      "|ciencias 2 fisica...|      2015|     2018|\n",
      "|norma. grandes he...|      2015|     2016|\n",
      "|matematicas 1. se...|      2018|     2023|\n",
      "|ciencias y tecnol...|      2019|     2021|\n",
      "|       maped. 2 in 1|      2015|     2020|\n",
      "|   paper mate carmen|      2018|     2022|\n",
      "+--------------------+----------+---------+\n",
      "only showing top 20 rows"
     ]
    }
   ],
   "source": [
    "from pyspark.sql.functions import min, max\n",
    "\n",
    "# Find if any brand has disappeared over the years\n",
    "brand_years = df_cat.groupBy(\"marca\").agg(min(\"year\").alias(\"first_year\"), max(\"year\").alias(\"last_year\"))\n",
    "current_year = df_cat.select(max(\"year\")).collect()[0][0]  # assuming this retrieves the current or latest year in the dataset\n",
    "disappeared_brands = brand_years.filter(brand_years.last_year < current_year)\n",
    "disappeared_brands.show()"
   ]
  },
  {
   "cell_type": "markdown",
   "id": "569ae2c6",
   "metadata": {},
   "source": [
    "- Genera una gráfica de serie de tiempo por estado para la marca con mayor precio -en todos los años-, donde el eje equis es el año y el eje ye es el precio máximo."
   ]
  },
  {
   "cell_type": "code",
   "execution_count": 41,
   "id": "4060d8ed",
   "metadata": {},
   "outputs": [
    {
     "data": {
      "application/vnd.jupyter.widget-view+json": {
       "model_id": "",
       "version_major": 2,
       "version_minor": 0
      },
      "text/plain": [
       "FloatProgress(value=0.0, bar_style='info', description='Progress:', layout=Layout(height='25px', width='50%'),…"
      ]
     },
     "metadata": {},
     "output_type": "display_data"
    },
    {
     "name": "stdout",
     "output_type": "stream",
     "text": [
      "+--------------+----+--------------------+----------+\n",
      "|        estado|year|               marca|max_precio|\n",
      "+--------------+----+--------------------+----------+\n",
      "|aguascalientes|2015|norma. snoopy. pe...|      59.9|\n",
      "|aguascalientes|2015|norma. i love one...|      46.8|\n",
      "|aguascalientes|2015|        maped. softy|      18.8|\n",
      "|aguascalientes|2015|  pelikan. colorella|    137.53|\n",
      "|aguascalientes|2015|  scribe. duplicador|      69.0|\n",
      "|aguascalientes|2015|             popular|      11.5|\n",
      "|aguascalientes|2015|scribe. polycover...|     41.32|\n",
      "|aguascalientes|2015|scribe. linea eje...|    114.63|\n",
      "|aguascalientes|2015|scribe. escolar. ...|     24.78|\n",
      "|aguascalientes|2015|paper mate. expre...|      24.5|\n",
      "|aguascalientes|2015|        office depot|      25.0|\n",
      "|aguascalientes|2015|     maped. security|      17.5|\n",
      "|aguascalientes|2015|  maped. c.b. 063030|      16.0|\n",
      "|aguascalientes|2015|   zebra. z grip max|      26.0|\n",
      "|aguascalientes|2015|       norma. minnie|      54.9|\n",
      "|aguascalientes|2015|      bic. evolution|    106.35|\n",
      "|aguascalientes|2015|      verbatim (52x)|     189.5|\n",
      "|aguascalientes|2015|scribe. marvel. a...|      29.9|\n",
      "|aguascalientes|2015|               royal|     145.0|\n",
      "|aguascalientes|2015|       bic. diamante|      44.9|\n",
      "+--------------+----+--------------------+----------+\n",
      "only showing top 20 rows"
     ]
    }
   ],
   "source": [
    "from pyspark.sql.functions import max\n",
    "\n",
    "# Extract data for visualization\n",
    "brand_max_price_by_state_year = df_cat.groupBy(\"estado\", \"year\", \"marca\").agg(max(\"precio\").alias(\"max_precio\")).orderBy(\"estado\", \"year\")\n",
    "brand_max_price_by_state_year.show()"
   ]
  },
  {
   "cell_type": "code",
   "execution_count": 3,
   "id": "6a460669",
   "metadata": {},
   "outputs": [
    {
     "data": {
      "application/vnd.jupyter.widget-view+json": {
       "model_id": "",
       "version_major": 2,
       "version_minor": 0
      },
      "text/plain": [
       "FloatProgress(value=0.0, bar_style='info', description='Progress:', layout=Layout(height='25px', width='50%'),…"
      ]
     },
     "metadata": {},
     "output_type": "display_data"
    }
   ],
   "source": [
    "spark.stop()"
   ]
  }
 ],
 "metadata": {
  "kernelspec": {
   "display_name": "PySpark",
   "language": "python",
   "name": "pysparkkernel"
  },
  "language_info": {
   "codemirror_mode": {
    "name": "python",
    "version": 3
   },
   "file_extension": ".py",
   "mimetype": "text/x-python",
   "name": "pyspark",
   "pygments_lexer": "python3"
  }
 },
 "nbformat": 4,
 "nbformat_minor": 5
}
